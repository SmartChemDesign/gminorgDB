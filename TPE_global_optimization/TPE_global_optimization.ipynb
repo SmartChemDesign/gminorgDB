{
 "cells": [
  {
   "cell_type": "markdown",
   "metadata": {},
   "source": [
    "This notebook explains how to use the Tree Parzen Estimator to find the global minimum conformation of a molecule."
   ]
  },
  {
   "cell_type": "markdown",
   "metadata": {},
   "source": [
    "# First, we have to load the molecule. For example, we can use the RDKit package to do this from the SMILES line."
   ]
  },
  {
   "cell_type": "code",
   "execution_count": null,
   "metadata": {},
   "outputs": [],
   "source": [
    "from rdkit import Chem\n",
    "from rdkit.Chem import AllChem\n",
    "from random import randrange"
   ]
  },
  {
   "cell_type": "code",
   "execution_count": null,
   "metadata": {},
   "outputs": [],
   "source": [
    "SMILES = \"CCCCC\" # dodecane\n",
    "molecule = Chem.MolFromSmiles(SMILES) # convert to RDKit.Mol object\n",
    "molecule = Chem.AddHs(molecule) # add hydrogens to the carbon carcass\n",
    "AllChem.EmbedMolecule(molecule, randomSeed=randrange(1000000))\n",
    "if molecule:\n",
    "    print(\"Success!\")\n",
    "else:\n",
    "    print(\"Fail! Check your SMILES input\")"
   ]
  },
  {
   "cell_type": "markdown",
   "metadata": {},
   "source": [
    "# Next, we need to get a list of dihedral angles that will determine the conformation"
   ]
  },
  {
   "cell_type": "code",
   "execution_count": null,
   "metadata": {},
   "outputs": [],
   "source": [
    "from operator import itemgetter"
   ]
  },
  {
   "cell_type": "code",
   "execution_count": null,
   "metadata": {},
   "outputs": [],
   "source": [
    "def find_torsions(mol):\n",
    "    \"\"\"\n",
    "    https://th.fhi-berlin.mpg.de/meetings/dft-workshop-2017/uploads/Meeting/Tutorial3_2017_manual.pdf\n",
    "    https://github.com/adrianasupady/fafoom/blob/234d2a1c45f9ceb91de5f4d425de02c563cd9178/fafoom/deg_of_freedom.py\n",
    "    Find the positions of rotatable bonds in the molecule.\n",
    "    \"\"\"\n",
    "    # get only valuable dihedrals\n",
    "    pattern_tor = Chem.MolFromSmarts(\"[*]~[!$(*#*)&!D1]-&!@[!$(*#*)&!D1]~[*]\")\n",
    "    torsion = list(mol.GetSubstructMatches(pattern_tor))\n",
    "\n",
    "    # remove duplicate torsion definitions from a list of atom ind. tuples.\n",
    "    for_remove = []\n",
    "    for x in reversed(range(len(torsion))):\n",
    "        for y in reversed(range(x)):\n",
    "            ix1, ix2 = itemgetter(1)(torsion[x]), itemgetter(2)(torsion[x])\n",
    "            iy1, iy2 = itemgetter(1)(torsion[y]), itemgetter(2)(torsion[y])\n",
    "            if (ix1 == iy1 and ix2 == iy2) or (ix1 == iy2 and ix2 == iy1):\n",
    "                for_remove.append(y)\n",
    "    clean_list = [v for i, v in enumerate(torsion) if i not in set(for_remove)]\n",
    "\n",
    "    return clean_list"
   ]
  },
  {
   "cell_type": "code",
   "execution_count": null,
   "metadata": {},
   "outputs": [],
   "source": [
    "dihedrals_idxs = find_torsions(molecule)\n",
    "dof_count = len(dihedrals_idxs)\n",
    "print(\"DoF number: \", dof_count)"
   ]
  },
  {
   "cell_type": "markdown",
   "metadata": {},
   "source": [
    "the dihedrals_idxs list contains sets of atom numbers that define this angle, for example:"
   ]
  },
  {
   "cell_type": "code",
   "execution_count": null,
   "metadata": {},
   "outputs": [],
   "source": [
    "dihedrals_idxs[0]"
   ]
  },
  {
   "cell_type": "markdown",
   "metadata": {},
   "source": [
    "# Finally, we can define an energy estimation function and construct the optimization routine"
   ]
  },
  {
   "cell_type": "markdown",
   "metadata": {},
   "source": [
    "## Energy estimation function definition"
   ]
  },
  {
   "cell_type": "code",
   "execution_count": null,
   "metadata": {},
   "outputs": [],
   "source": [
    "from ase import Atoms\n",
    "from xtb.ase.calculator import XTB"
   ]
  },
  {
   "cell_type": "code",
   "execution_count": null,
   "metadata": {},
   "outputs": [],
   "source": [
    "def GetAseObjectByDihedrals(dihedral_values):\n",
    "    # set the required values of the dihedrals\n",
    "    for dihed, idx in zip(dihedral_values, dihedrals_idxs):\n",
    "        Chem.rdMolTransforms.SetDihedralDeg(molecule.GetConformer(), *idx, dihed)\n",
    "    # convert molecule from RDKit to ASE format\n",
    "    # RDKit -> symbol-position arrays\n",
    "    data = Chem.rdmolfiles.MolToXYZBlock(molecule).splitlines()[2:]\n",
    "    data = [x.split() for x in data]\n",
    "    symbols = [x[0] for x in data]\n",
    "    positions = [(float(x[1]), float(x[2]), float(x[3])) for x in data]\n",
    "    #symbol-position arrays -> ase system format\n",
    "    return Atoms(symbols, positions)"
   ]
  },
  {
   "cell_type": "code",
   "execution_count": null,
   "metadata": {},
   "outputs": [],
   "source": [
    "def GetEnergyByDihedrals(dihedral_values):\n",
    "    ase_sys = GetAseObjectByDihedrals(dihedral_values)\n",
    "    ase_sys.calc = XTB(method=\"GFN2-xTB\") # set energy estimation method\n",
    "    return ase_sys.get_potential_energy()"
   ]
  },
  {
   "cell_type": "markdown",
   "metadata": {},
   "source": [
    "## Global optimization routine"
   ]
  },
  {
   "cell_type": "code",
   "execution_count": null,
   "metadata": {},
   "outputs": [],
   "source": [
    "from hyperopt import hp\n",
    "from hyperopt import fmin, tpe, STATUS_OK, Trials"
   ]
  },
  {
   "cell_type": "code",
   "execution_count": null,
   "metadata": {},
   "outputs": [],
   "source": [
    "dihedrals_space = [hp.uniform(chr(ord(\"A\")+i), -180, 180) for i in range(dof_count)] # a search-space\n",
    "trials = Trials() # useful class for storing the data of each iteration\n",
    "\n",
    "best = fmin(\n",
    "    GetEnergyByDihedrals, # loss function estimator\n",
    "    dihedrals_space,      # search-space\n",
    "    algo=tpe.suggest,     # TPE algorithm\n",
    "    max_evals=300,        # max steps\n",
    "    trials=trials,        # save results of each step\n",
    "    )"
   ]
  },
  {
   "cell_type": "markdown",
   "metadata": {},
   "source": [
    "Great! Now we can look at optimization curve (using trials object)"
   ]
  },
  {
   "cell_type": "code",
   "execution_count": null,
   "metadata": {},
   "outputs": [],
   "source": [
    "import numpy as np\n",
    "import matplotlib.pyplot as plt"
   ]
  },
  {
   "cell_type": "code",
   "execution_count": null,
   "metadata": {},
   "outputs": [],
   "source": [
    "def get_min_loss(loss_list):\n",
    "    losses = []\n",
    "    for k in range(1, len(loss_list) + 1):\n",
    "        losses.append(np.min(loss_list[:k]))\n",
    "    return losses\n",
    "\n",
    "def get_mean_loss(loss_list):\n",
    "    losses = []\n",
    "    for k in range(1, len(loss_list) + 1):\n",
    "        losses.append(np.mean(loss_list[:k]))\n",
    "    return losses"
   ]
  },
  {
   "cell_type": "code",
   "execution_count": null,
   "metadata": {},
   "outputs": [],
   "source": [
    "data = trials.losses()\n",
    "x = np.arange(len(data))\n",
    "plt.scatter(x, data, c='r')\n",
    "plt.plot(x, get_min_loss(data), color='b', label='min value')\n",
    "plt.plot(x, get_mean_loss(data), color='g', label='mean value')\n",
    "plt.legend()\n",
    "plt.xlabel(\"# iteration\")\n",
    "plt.ylabel(\"Energy\")\n",
    "plt.show()"
   ]
  },
  {
   "cell_type": "markdown",
   "metadata": {},
   "source": [
    "## Global minimum region -> global minimum"
   ]
  },
  {
   "cell_type": "markdown",
   "metadata": {},
   "source": [
    "We have now found the global minimum region and have probably reached the XTB error limit. Now we will use more precise and expensive MP2 method with resolution of the identity approximation to find the global minimum more accurately. "
   ]
  },
  {
   "cell_type": "markdown",
   "metadata": {},
   "source": [
    "ase geometry optimization + pyscf"
   ]
  },
  {
   "cell_type": "code",
   "execution_count": null,
   "metadata": {},
   "outputs": [],
   "source": [
    "# https://github.com/pyscf/pyscf/issues/624\n",
    "from ase.calculators.calculator import Calculator, all_changes\n",
    "from ase.units import Ha, Bohr, Debye\n",
    "from pyscf.prop.polarizability.uhf import polarizability, Polarizability\n",
    "from pyscf.pbc.tools.pyscf_ase import atoms_from_ase\n",
    "import jsonpickle\n",
    "import numpy\n",
    "\n",
    "class parameters():\n",
    "    # holds the calculation mode and user-chosen attributes of post-HF objects\n",
    "    def __init__(self):\n",
    "        self.mode = 'hf'\n",
    "    def show(self):\n",
    "        print('------------------------')\n",
    "        print('calculation-specific parameters set by the user')\n",
    "        print('------------------------')\n",
    "        for v in vars(self):\n",
    "            print('{}:  {}'.format(v,vars(self)[v]))\n",
    "        print('\\n\\n')\n",
    "                                                         \n",
    "\n",
    "\n",
    "def todict(x):\n",
    "    return jsonpickle.encode(x, unpicklable=False)\n",
    "\n",
    "\n",
    "def init_geo(mf, atoms):\n",
    "    # convert ASE structural information to PySCF information\n",
    "    if atoms.pbc.any():\n",
    "        cell = mf.cell.copy()\n",
    "        cell.atom = atoms_from_ase(atoms)\n",
    "        cell.a = atoms.cell.copy()\n",
    "        cell.build()\n",
    "        mf.reset(cell=cell.copy())\n",
    "    else:\n",
    "        mol = mf.mol.copy()\n",
    "        mol.atom = atoms_from_ase(atoms)\n",
    "        mol.build()\n",
    "        mf.reset(mol=mol.copy())\n",
    "\n",
    "class PYSCF(Calculator):\n",
    "    # PySCF ASE calculator\n",
    "    # by Jakob Kraus\n",
    "    # units:  ase         -> units [eV,Angstroem,eV/Angstroem,e*A,A**3]\n",
    "    #         pyscf       -> units [Ha,Bohr,Ha/Bohr,Debye,Bohr**3]\n",
    "\n",
    "    implemented_properties = ['energy','forces','dipole','polarizability']\n",
    "    \n",
    "    \n",
    "    def __init__(self, restart=None, ignore_bad_restart_file=False,\n",
    "                 label='PySCF', atoms=None, directory='.', **kwargs):\n",
    "        # constructor\n",
    "        Calculator.__init__(self, restart, ignore_bad_restart_file,\n",
    "                            label, atoms, directory, **kwargs)\n",
    "        self.initialize(**kwargs)\n",
    "\n",
    "\n",
    "    def initialize(self, mf=None, p=None):\n",
    "        # attach the mf object to the calculator\n",
    "        # add the todict functionality to enable ASE trajectories:\n",
    "        # https://github.com/pyscf/pyscf/issues/624\n",
    "        self.mf = mf\n",
    "        self.p = p\n",
    "        self.mf.todict = lambda: todict(self.mf)\n",
    "        self.p.todict = lambda: todict(self.p)\n",
    "\n",
    "    def set(self, **kwargs):\n",
    "        # allow for a calculator reset\n",
    "        changed_parameters = Calculator.set(self, **kwargs)\n",
    "        if changed_parameters:\n",
    "            self.reset()\n",
    "    \n",
    "    def get_polarizability(self,atoms=None):\n",
    "        return self.get_property('polarizability',atoms)\n",
    "    \n",
    "    def calculate(self,atoms=None,properties=['energy'],system_changes=all_changes):\n",
    "        \n",
    "        Calculator.calculate(self,atoms=atoms,properties=properties,system_changes=system_changes)\n",
    "        \n",
    "        # update your mf object with new structural information\n",
    "        init_geo(self.mf, atoms)\n",
    "\n",
    "        # further update your mf object for post-HF methods\n",
    "        if hasattr(self.mf,'_scf'):\n",
    "            self.mf._scf.kernel()\n",
    "            self.mf.__init__(self.mf._scf)\n",
    "            for v in vars(self.p):\n",
    "                if v != 'mode':\n",
    "                    setattr(self.mf,v,vars(self.p)[v])\n",
    "        self.mf.kernel()\n",
    "        e = self.mf.e_tot\n",
    "        \n",
    "        if self.p.mode.lower() == 'ccsd(t)':\n",
    "            e += self.mf.ccsd_t()\n",
    "        \n",
    "        self.results['energy'] = e * Ha\n",
    "        \n",
    "        if 'forces' in properties:\n",
    "            gf = self.mf.nuc_grad_method()\n",
    "            gf.verbose = self.mf.verbose\n",
    "            if self.p.mode.lower() == 'dft':\n",
    "                gf.grid_response = True\n",
    "            forces = -1. * gf.kernel() * (Ha / Bohr)\n",
    "            totalforces = []\n",
    "            totalforces.extend(forces)\n",
    "            totalforces = numpy.array(totalforces)\n",
    "            self.results['forces'] = totalforces\n",
    "        \n",
    "        if hasattr(self.mf,'_scf'):\n",
    "            self.results['dipole'] = self.mf._scf.dip_moment(verbose=self.mf._scf.verbose) * Debye\n",
    "            self.results['polarizability'] = Polarizability(self.mf._scf).polarizability() * (Bohr**3)\n",
    "        else:\n",
    "            self.results['dipole'] = self.mf.dip_moment(verbose=self.mf.verbose) * Debye\n",
    "            self.results['polarizability'] = Polarizability(self.mf).polarizability() * (Bohr**3)"
   ]
  },
  {
   "cell_type": "code",
   "execution_count": null,
   "metadata": {},
   "outputs": [],
   "source": [
    "import pyscf\n",
    "from ase.optimize import LBFGS"
   ]
  },
  {
   "cell_type": "code",
   "execution_count": null,
   "metadata": {},
   "outputs": [],
   "source": [
    "ase_sys = GetAseObjectByDihedrals(best.values())\n",
    "mol = pyscf.M(atom=atoms_from_ase(ase_sys),basis='cc-pVDZ',spin=0,charge=0)\n",
    "mf = mol.UHF()\n",
    "mf.verbose = 3\n",
    "mf.kernel() \n",
    "mf = mf.MP2()\n",
    "\n",
    "p = parameters()\n",
    "p.mode = 'mp2'\n",
    "p.verbose = 5\n",
    "p.show()\n",
    "\n",
    "mf.verbose = p.verbose\n",
    "ase_sys.calc = PYSCF(mf=mf,p=p)\n",
    "\n",
    "fmax = 1e-3 * (Ha / Bohr)\n",
    "dyn = LBFGS(ase_sys, logfile=\"loc_opt.log\", trajectory=\"loc_opt.traj\")\n",
    "dyn.run(fmax=fmax)"
   ]
  },
  {
   "cell_type": "markdown",
   "metadata": {},
   "source": [
    "# DONE! Now we can watch a cartoon of how the local optimization was carried out"
   ]
  },
  {
   "cell_type": "code",
   "execution_count": 1,
   "metadata": {},
   "outputs": [
    {
     "data": {
      "application/vnd.jupyter.widget-view+json": {
       "model_id": "98ce8d3eb32b4680849e7b225f030ee6",
       "version_major": 2,
       "version_minor": 0
      },
      "text/plain": []
     },
     "metadata": {},
     "output_type": "display_data"
    }
   ],
   "source": [
    "import ase.io\n",
    "import nglview"
   ]
  },
  {
   "cell_type": "code",
   "execution_count": 2,
   "metadata": {},
   "outputs": [
    {
     "data": {
      "application/vnd.jupyter.widget-view+json": {
       "model_id": "8b25a2b90add443f801084fb0742596f",
       "version_major": 2,
       "version_minor": 0
      },
      "text/plain": [
       "NGLWidget(max_frame=18)"
      ]
     },
     "metadata": {},
     "output_type": "display_data"
    }
   ],
   "source": [
    "mode30 = ase.io.read('loc_opt.traj', index=':')\n",
    "nglview.show_asetraj(mode30)"
   ]
  }
 ],
 "metadata": {
  "kernelspec": {
   "display_name": "Python 3",
   "language": "python",
   "name": "python3"
  },
  "language_info": {
   "codemirror_mode": {
    "name": "ipython",
    "version": 3
   },
   "file_extension": ".py",
   "mimetype": "text/x-python",
   "name": "python",
   "nbconvert_exporter": "python",
   "pygments_lexer": "ipython3",
   "version": "3.8.3"
  },
  "toc": {
   "base_numbering": 1,
   "nav_menu": {},
   "number_sections": true,
   "sideBar": true,
   "skip_h1_title": false,
   "title_cell": "Table of Contents",
   "title_sidebar": "Contents",
   "toc_cell": false,
   "toc_position": {},
   "toc_section_display": true,
   "toc_window_display": false
  },
  "varInspector": {
   "cols": {
    "lenName": 16,
    "lenType": 16,
    "lenVar": 40
   },
   "kernels_config": {
    "python": {
     "delete_cmd_postfix": "",
     "delete_cmd_prefix": "del ",
     "library": "var_list.py",
     "varRefreshCmd": "print(var_dic_list())"
    },
    "r": {
     "delete_cmd_postfix": ") ",
     "delete_cmd_prefix": "rm(",
     "library": "var_list.r",
     "varRefreshCmd": "cat(var_dic_list()) "
    }
   },
   "types_to_exclude": [
    "module",
    "function",
    "builtin_function_or_method",
    "instance",
    "_Feature"
   ],
   "window_display": false
  }
 },
 "nbformat": 4,
 "nbformat_minor": 4
}
